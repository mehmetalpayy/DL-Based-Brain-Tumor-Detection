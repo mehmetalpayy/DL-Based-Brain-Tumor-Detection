{
  "nbformat": 4,
  "nbformat_minor": 0,
  "metadata": {
    "colab": {
      "provenance": [],
      "gpuType": "T4"
    },
    "kernelspec": {
      "name": "python3",
      "display_name": "Python 3"
    },
    "language_info": {
      "name": "python"
    },
    "accelerator": "GPU"
  },
  "cells": [
    {
      "cell_type": "code",
      "execution_count": 1,
      "metadata": {
        "colab": {
          "base_uri": "https://localhost:8080/"
        },
        "id": "e57onIbKcEAX",
        "outputId": "882f8bcc-c8e1-488b-dc9a-46b2fdd1e274"
      },
      "outputs": [
        {
          "output_type": "stream",
          "name": "stdout",
          "text": [
            "Requirement already satisfied: kaggle in /usr/local/lib/python3.10/dist-packages (1.5.16)\n",
            "Requirement already satisfied: six>=1.10 in /usr/local/lib/python3.10/dist-packages (from kaggle) (1.16.0)\n",
            "Requirement already satisfied: certifi in /usr/local/lib/python3.10/dist-packages (from kaggle) (2023.11.17)\n",
            "Requirement already satisfied: python-dateutil in /usr/local/lib/python3.10/dist-packages (from kaggle) (2.8.2)\n",
            "Requirement already satisfied: requests in /usr/local/lib/python3.10/dist-packages (from kaggle) (2.31.0)\n",
            "Requirement already satisfied: tqdm in /usr/local/lib/python3.10/dist-packages (from kaggle) (4.66.1)\n",
            "Requirement already satisfied: python-slugify in /usr/local/lib/python3.10/dist-packages (from kaggle) (8.0.1)\n",
            "Requirement already satisfied: urllib3 in /usr/local/lib/python3.10/dist-packages (from kaggle) (2.0.7)\n",
            "Requirement already satisfied: bleach in /usr/local/lib/python3.10/dist-packages (from kaggle) (6.1.0)\n",
            "Requirement already satisfied: webencodings in /usr/local/lib/python3.10/dist-packages (from bleach->kaggle) (0.5.1)\n",
            "Requirement already satisfied: text-unidecode>=1.3 in /usr/local/lib/python3.10/dist-packages (from python-slugify->kaggle) (1.3)\n",
            "Requirement already satisfied: charset-normalizer<4,>=2 in /usr/local/lib/python3.10/dist-packages (from requests->kaggle) (3.3.2)\n",
            "Requirement already satisfied: idna<4,>=2.5 in /usr/local/lib/python3.10/dist-packages (from requests->kaggle) (3.6)\n"
          ]
        }
      ],
      "source": [
        "! pip install kaggle"
      ]
    },
    {
      "cell_type": "code",
      "source": [
        "from google.colab import files\n",
        "\n",
        "# Kaggle API anahtarını yükleyin\n",
        "files.upload()"
      ],
      "metadata": {
        "id": "Fk_MJkEJfQMw"
      },
      "execution_count": null,
      "outputs": []
    },
    {
      "cell_type": "code",
      "source": [
        "!mkdir -p ~/.kaggle\n",
        "!cp kaggle.json ~/.kaggle/\n",
        "!chmod 600 ~/.kaggle/kaggle.json"
      ],
      "metadata": {
        "id": "b1IpYcmef1Is"
      },
      "execution_count": 3,
      "outputs": []
    },
    {
      "cell_type": "code",
      "source": [
        "!kaggle datasets download -d shadyeldakrory/shadyfinal3"
      ],
      "metadata": {
        "colab": {
          "base_uri": "https://localhost:8080/"
        },
        "id": "oLHgkz1Pf69X",
        "outputId": "4e1f49d0-86dd-4c53-9062-df48d0ec6942"
      },
      "execution_count": 4,
      "outputs": [
        {
          "output_type": "stream",
          "name": "stdout",
          "text": [
            "shadyfinal3.zip: Skipping, found more recently modified local copy (use --force to force download)\n"
          ]
        }
      ]
    },
    {
      "cell_type": "code",
      "source": [
        "import zipfile\n",
        "import os\n",
        "\n",
        "\n",
        "zip_path = '/content/shadyfinal3.zip'\n",
        "\n",
        "# Çıkartılacak dizini belirtin\n",
        "extracted_folder_path = '/content/shadyfinal3'\n",
        "\n",
        "# Zip dosyasını çıkart\n",
        "with zipfile.ZipFile(zip_path, 'r') as zip_ref:\n",
        "    zip_ref.extractall(extracted_folder_path)\n",
        "\n",
        "# Çıkartılan dosyaları göster\n",
        "os.listdir(extracted_folder_path)"
      ],
      "metadata": {
        "colab": {
          "base_uri": "https://localhost:8080/"
        },
        "id": "1V0mUlHUf83P",
        "outputId": "b485d32c-ece2-4492-b50e-7f60523671e4"
      },
      "execution_count": 5,
      "outputs": [
        {
          "output_type": "execute_result",
          "data": {
            "text/plain": [
              "['test', 'validation', 'train']"
            ]
          },
          "metadata": {},
          "execution_count": 5
        }
      ]
    },
    {
      "cell_type": "code",
      "source": [
        "import numpy as np # linear algebra\n",
        "import pandas as pd # data processing, CSV file I/O (e.g. pd.read_csv)\n",
        "import tensorflow as tf\n",
        "import keras\n",
        "from keras import backend as K\n",
        "from keras.layers import Dense, Activation\n",
        "from keras.optimizers import Adam\n",
        "from keras.models import Sequential\n",
        "from keras.metrics import categorical_crossentropy\n",
        "from keras.preprocessing.image import ImageDataGenerator\n",
        "from keras.preprocessing import image\n",
        "from keras.models import Model\n",
        "from keras.models import Sequential\n",
        "from keras.layers import Dense, Dropout, Flatten\n",
        "from keras.layers import Conv2D, MaxPooling2D\n",
        "from keras.utils import to_categorical\n",
        "from keras.applications import imagenet_utils\n",
        "from keras.layers import Dense,GlobalAveragePooling2D,RandomFlip,RandomRotation\n",
        "from keras.applications import MobileNet,resnet,MobileNetV2,DenseNet121\n",
        "from tensorflow.keras.applications import ResNet50\n",
        "from keras.applications.mobilenet import preprocess_input\n",
        "import numpy as np\n",
        "from IPython.display import Image\n",
        "from keras.optimizers import Adam\n",
        "\n",
        "\n",
        "from tensorflow.keras.preprocessing.image import ImageDataGenerator\n",
        "from sklearn.metrics import f1_score"
      ],
      "metadata": {
        "id": "a3xNF02ygZdS"
      },
      "execution_count": 6,
      "outputs": []
    },
    {
      "cell_type": "code",
      "source": [
        "train_datagen = ImageDataGenerator(\n",
        "    rescale=1./255,\n",
        "    shear_range=0.2,\n",
        "    zoom_range=0.2,\n",
        "    horizontal_flip=True)\n",
        "\n",
        "test_datagen = ImageDataGenerator(rescale=1./255)\n",
        "\n",
        "train_generator = train_datagen.flow_from_directory(\n",
        "    '/content/shadyfinal3/train',\n",
        "    target_size=(224, 224),\n",
        "    batch_size=64,\n",
        "    class_mode='categorical')\n",
        "\n",
        "validation_generator = test_datagen.flow_from_directory(\n",
        "    '/content/shadyfinal3/validation',\n",
        "    target_size=(224, 224),\n",
        "    batch_size=64,\n",
        "    class_mode='categorical')"
      ],
      "metadata": {
        "colab": {
          "base_uri": "https://localhost:8080/"
        },
        "id": "bY4MZPcugyp9",
        "outputId": "84a0d5ee-bdf7-4f85-942f-265f2a64d947"
      },
      "execution_count": 7,
      "outputs": [
        {
          "output_type": "stream",
          "name": "stdout",
          "text": [
            "Found 15127 images belonging to 4 classes.\n",
            "Found 3050 images belonging to 4 classes.\n"
          ]
        }
      ]
    },
    {
      "cell_type": "code",
      "source": [
        "data_augmentation =Sequential([\n",
        "  RandomFlip(\"horizontal_and_vertical\"),\n",
        "  RandomRotation(0.6),\n",
        "\n",
        "])\n",
        "model = Sequential([\n",
        "  # Add the preprocessing layers you created earlier.\n",
        "  #data_augmentation,\n",
        "    DenseNet121(weights='imagenet',include_top=False),\n",
        "    #ResNet50(weights='imagenet',include_top=False),\n",
        "    GlobalAveragePooling2D(),\n",
        "    Dense(1024,activation='relu'),\n",
        "    Dense(1024,activation='relu'),\n",
        "    Dropout(0.2),\n",
        "    Dense(512,activation='relu'),\n",
        "    Dense(512,activation='relu'),\n",
        "    Dropout(0.2),\n",
        "    Dense(256,activation='relu'),\n",
        "    Dense(4,activation='softmax')\n",
        "\n",
        "  # Rest of your model.\n",
        "])"
      ],
      "metadata": {
        "id": "TzdQcQsBg42r"
      },
      "execution_count": 8,
      "outputs": []
    },
    {
      "cell_type": "code",
      "source": [
        "from tensorflow.keras import backend as K\n",
        "\n",
        "def f1_metric(y_true, y_pred):\n",
        "    y_true = K.argmax(y_true, axis=1)\n",
        "    y_pred = K.argmax(y_pred, axis=1)\n",
        "\n",
        "    true_positives = K.sum(K.cast(K.equal(y_true, 1) & K.equal(y_pred, 1), dtype=tf.float32))\n",
        "    possible_positives = K.sum(K.cast(K.equal(y_true, 1), dtype=tf.float32))\n",
        "    predicted_positives = K.sum(K.cast(K.equal(y_pred, 1), dtype=tf.float32))\n",
        "\n",
        "    precision = true_positives / (predicted_positives + K.epsilon())\n",
        "    recall = true_positives / (possible_positives + K.epsilon())\n",
        "    f1 = 2 * (precision * recall) / (precision + recall + K.epsilon())\n",
        "\n",
        "    return f1"
      ],
      "metadata": {
        "id": "0k6I_VZbg7FZ"
      },
      "execution_count": 9,
      "outputs": []
    },
    {
      "cell_type": "code",
      "source": [
        "validation_steps = len(validation_generator)\n",
        "steps_per_epoch = len(train_generator)\n",
        "model.compile(optimizer='SGD', loss='categorical_crossentropy', metrics=['accuracy', tf.keras.metrics.Precision(), tf.keras.metrics.Recall(), f1_metric])\n",
        "# loss function will be categorical cross entropy\n",
        "# evaluation metric will be accuracy\n",
        "model.fit_generator(\n",
        "    train_generator,\n",
        "    steps_per_epoch=steps_per_epoch,\n",
        "    epochs=5,\n",
        "    validation_data=validation_generator,\n",
        "    validation_steps=validation_steps)"
      ],
      "metadata": {
        "colab": {
          "base_uri": "https://localhost:8080/"
        },
        "id": "LFlWLQ-MhAS_",
        "outputId": "4f6588d8-16ea-4d85-b9b8-44798402632b"
      },
      "execution_count": 10,
      "outputs": [
        {
          "output_type": "stream",
          "name": "stderr",
          "text": [
            "<ipython-input-10-2a1427dcfd62>:7: UserWarning: `Model.fit_generator` is deprecated and will be removed in a future version. Please use `Model.fit`, which supports generators.\n",
            "  model.fit_generator(\n"
          ]
        },
        {
          "output_type": "stream",
          "name": "stdout",
          "text": [
            "Epoch 1/5\n",
            "237/237 [==============================] - 368s 1s/step - loss: 0.5484 - accuracy: 0.7824 - precision: 0.8880 - recall: 0.6671 - f1_metric: 0.7067 - val_loss: 0.4663 - val_accuracy: 0.8308 - val_precision: 0.8393 - val_recall: 0.8236 - val_f1_metric: 0.8001\n",
            "Epoch 2/5\n",
            "237/237 [==============================] - 309s 1s/step - loss: 0.1667 - accuracy: 0.9416 - precision: 0.9480 - recall: 0.9343 - f1_metric: 0.9137 - val_loss: 0.1787 - val_accuracy: 0.9413 - val_precision: 0.9452 - val_recall: 0.9380 - val_f1_metric: 0.9064\n",
            "Epoch 3/5\n",
            "237/237 [==============================] - 308s 1s/step - loss: 0.1044 - accuracy: 0.9652 - precision: 0.9694 - recall: 0.9611 - f1_metric: 0.9494 - val_loss: 0.2221 - val_accuracy: 0.9311 - val_precision: 0.9347 - val_recall: 0.9289 - val_f1_metric: 0.8798\n",
            "Epoch 4/5\n",
            "237/237 [==============================] - 309s 1s/step - loss: 0.0741 - accuracy: 0.9743 - precision: 0.9790 - recall: 0.9716 - f1_metric: 0.9634 - val_loss: 0.2051 - val_accuracy: 0.9370 - val_precision: 0.9387 - val_recall: 0.9341 - val_f1_metric: 0.9062\n",
            "Epoch 5/5\n",
            "237/237 [==============================] - 309s 1s/step - loss: 0.0572 - accuracy: 0.9807 - precision: 0.9838 - recall: 0.9783 - f1_metric: 0.9736 - val_loss: 0.0859 - val_accuracy: 0.9734 - val_precision: 0.9734 - val_recall: 0.9728 - val_f1_metric: 0.9636\n"
          ]
        },
        {
          "output_type": "execute_result",
          "data": {
            "text/plain": [
              "<keras.src.callbacks.History at 0x7d61622fa7a0>"
            ]
          },
          "metadata": {},
          "execution_count": 10
        }
      ]
    },
    {
      "cell_type": "code",
      "source": [],
      "metadata": {
        "id": "gTtYIcZniI-D"
      },
      "execution_count": 10,
      "outputs": []
    }
  ]
}