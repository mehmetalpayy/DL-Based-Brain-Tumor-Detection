{
  "cells": [
    {
      "cell_type": "code",
      "execution_count": null,
      "metadata": {
        "colab": {
          "base_uri": "https://localhost:8080/"
        },
        "id": "Bcs_n5sEwcXu",
        "outputId": "e8bb9f07-b4ea-463a-9ced-d2b7b9de1a7a"
      },
      "outputs": [
        {
          "name": "stdout",
          "output_type": "stream",
          "text": [
            "Requirement already satisfied: kaggle in /usr/local/lib/python3.10/dist-packages (1.5.16)\n",
            "Requirement already satisfied: six>=1.10 in /usr/local/lib/python3.10/dist-packages (from kaggle) (1.16.0)\n",
            "Requirement already satisfied: certifi in /usr/local/lib/python3.10/dist-packages (from kaggle) (2023.11.17)\n",
            "Requirement already satisfied: python-dateutil in /usr/local/lib/python3.10/dist-packages (from kaggle) (2.8.2)\n",
            "Requirement already satisfied: requests in /usr/local/lib/python3.10/dist-packages (from kaggle) (2.31.0)\n",
            "Requirement already satisfied: tqdm in /usr/local/lib/python3.10/dist-packages (from kaggle) (4.66.1)\n",
            "Requirement already satisfied: python-slugify in /usr/local/lib/python3.10/dist-packages (from kaggle) (8.0.1)\n",
            "Requirement already satisfied: urllib3 in /usr/local/lib/python3.10/dist-packages (from kaggle) (2.0.7)\n",
            "Requirement already satisfied: bleach in /usr/local/lib/python3.10/dist-packages (from kaggle) (6.1.0)\n",
            "Requirement already satisfied: webencodings in /usr/local/lib/python3.10/dist-packages (from bleach->kaggle) (0.5.1)\n",
            "Requirement already satisfied: text-unidecode>=1.3 in /usr/local/lib/python3.10/dist-packages (from python-slugify->kaggle) (1.3)\n",
            "Requirement already satisfied: charset-normalizer<4,>=2 in /usr/local/lib/python3.10/dist-packages (from requests->kaggle) (3.3.2)\n",
            "Requirement already satisfied: idna<4,>=2.5 in /usr/local/lib/python3.10/dist-packages (from requests->kaggle) (3.6)\n"
          ]
        }
      ],
      "source": [
        "! pip install kaggle"
      ]
    },
    {
      "cell_type": "code",
      "execution_count": null,
      "metadata": {
        "id": "k1DLh2dQwvaS"
      },
      "outputs": [],
      "source": [
        "from google.colab import files\n",
        "\n",
        "# Kaggle API anahtarını yükleyin attığım kaggle.json dosyasını\n",
        "files.upload()"
      ]
    },
    {
      "cell_type": "code",
      "execution_count": null,
      "metadata": {
        "id": "ODYV3WUew3Rf"
      },
      "outputs": [],
      "source": [
        "!mkdir -p ~/.kaggle\n",
        "!cp kaggle.json ~/.kaggle/\n",
        "!chmod 600 ~/.kaggle/kaggle.json"
      ]
    },
    {
      "cell_type": "code",
      "execution_count": null,
      "metadata": {
        "colab": {
          "base_uri": "https://localhost:8080/"
        },
        "id": "ufX7veh-w4lv",
        "outputId": "a59ffa74-8b10-456b-f645-9b8cfba64761"
      },
      "outputs": [
        {
          "name": "stdout",
          "output_type": "stream",
          "text": [
            "Downloading covid-pneumonia-normal-chest-xray-images.zip to /content\n",
            " 95% 263M/277M [00:02<00:00, 166MB/s]\n",
            "100% 277M/277M [00:02<00:00, 130MB/s]\n",
            "Downloading covid19-image-dataset.zip to /content\n",
            " 94% 148M/158M [00:01<00:00, 136MB/s]\n",
            "100% 158M/158M [00:01<00:00, 138MB/s]\n",
            "Downloading covid19-pneumonia-normal-chest-xray-pa-dataset.zip to /content\n",
            "100% 1.91G/1.91G [00:19<00:00, 140MB/s]\n",
            "100% 1.91G/1.91G [00:19<00:00, 104MB/s]\n"
          ]
        }
      ],
      "source": [
        "!kaggle datasets download -d sachinkumar413/covid-pneumonia-normal-chest-xray-images # train dataseti\n",
        "!kaggle datasets download -d pranavraikokte/covid19-image-dataset # Validation ve 1.test\n",
        "!kaggle datasets download -d amanullahasraf/covid19-pneumonia-normal-chest-xray-pa-dataset #2. test"
      ]
    },
    {
      "cell_type": "code",
      "execution_count": null,
      "metadata": {
        "colab": {
          "base_uri": "https://localhost:8080/"
        },
        "id": "zbKtmpnLw5F8",
        "outputId": "0c296fd2-e750-4370-ed6a-5a1a4f2e6384"
      },
      "outputs": [
        {
          "data": {
            "text/plain": [
              "['normal', 'covid', 'pneumonia']"
            ]
          },
          "execution_count": 5,
          "metadata": {},
          "output_type": "execute_result"
        }
      ],
      "source": [
        "import zipfile\n",
        "import os\n",
        "\n",
        "\n",
        "zip_path = '/content/covid-pneumonia-normal-chest-xray-images.zip'\n",
        "\n",
        "# Çıkartılacak dizini belirtin\n",
        "extracted_folder_path = '/content/covid-pneumonia-normal-chest-xray-images'\n",
        "\n",
        "# Zip dosyasını çıkart\n",
        "with zipfile.ZipFile(zip_path, 'r') as zip_ref:\n",
        "    zip_ref.extractall(extracted_folder_path)\n",
        "\n",
        "# Çıkartılan dosyaları göster\n",
        "os.listdir(extracted_folder_path)\n",
        "\n",
        "zip_path = '/content/covid19-image-dataset.zip'\n",
        "\n",
        "# Çıkartılacak dizini belirtin\n",
        "extracted_folder_path = '/content/covid19-image-dataset'\n",
        "\n",
        "# Zip dosyasını çıkart\n",
        "with zipfile.ZipFile(zip_path, 'r') as zip_ref:\n",
        "    zip_ref.extractall(extracted_folder_path)\n",
        "\n",
        "# Çıkartılan dosyaları göster\n",
        "os.listdir(extracted_folder_path)\n",
        "\n",
        "\n",
        "zip_path = '/content/covid19-pneumonia-normal-chest-xray-pa-dataset.zip'\n",
        "\n",
        "# Çıkartılacak dizini belirtin\n",
        "extracted_folder_path = '/content/covid19-pneumonia-normal-chest-xray-pa-dataset'\n",
        "\n",
        "# Zip dosyasını çıkart\n",
        "with zipfile.ZipFile(zip_path, 'r') as zip_ref:\n",
        "    zip_ref.extractall(extracted_folder_path)\n",
        "\n",
        "# Çıkartılan dosyaları göster\n",
        "os.listdir(extracted_folder_path)"
      ]
    },
    {
      "cell_type": "code",
      "execution_count": null,
      "metadata": {
        "colab": {
          "base_uri": "https://localhost:8080/"
        },
        "id": "6NWTM9u11jxy",
        "outputId": "674cba78-73be-4728-8424-a49acb8ac208"
      },
      "outputs": [
        {
          "name": "stdout",
          "output_type": "stream",
          "text": [
            "Collecting split_folders\n",
            "  Downloading split_folders-0.5.1-py3-none-any.whl (8.4 kB)\n",
            "Installing collected packages: split_folders\n",
            "Successfully installed split_folders-0.5.1\n"
          ]
        }
      ],
      "source": [
        "!pip install split_folders"
      ]
    },
    {
      "cell_type": "code",
      "execution_count": null,
      "metadata": {
        "id": "XYbCN0xSzEvy"
      },
      "outputs": [],
      "source": [
        "import splitfolders\n",
        "import tensorflow as tf\n",
        "from tensorflow.keras.applications import MobileNetV2,ResNet152V2,Xception\n",
        "from tensorflow.keras.preprocessing.image import ImageDataGenerator\n",
        "from tensorflow.keras.layers import Dense, GlobalAveragePooling2D, Dropout\n",
        "from tensorflow.keras.models import Model\n",
        "import os"
      ]
    },
    {
      "cell_type": "code",
      "execution_count": null,
      "metadata": {
        "id": "v0rpIgWex6Uz"
      },
      "outputs": [],
      "source": [
        "# Define the paths to your training, validation and test datasets\n",
        "training_dir = '/content/covid-pneumonia-normal-chest-xray-images'\n",
        "validation_dir = '/content/covid19-image-dataset/Covid19-dataset/test'\n"
      ]
    },
    {
      "cell_type": "code",
      "execution_count": null,
      "metadata": {
        "colab": {
          "base_uri": "https://localhost:8080/"
        },
        "id": "WfkBij-ex-Nb",
        "outputId": "327166a5-3fcb-4160-d712-c9d764822cd6"
      },
      "outputs": [
        {
          "output_type": "stream",
          "name": "stdout",
          "text": [
            "Found 5228 images belonging to 3 classes.\n",
            "Found 66 images belonging to 3 classes.\n"
          ]
        }
      ],
      "source": [
        "# Define data augmentation for training\n",
        "train_datagen = ImageDataGenerator(\n",
        "    rescale=1./255,\n",
        "    brightness_range=[0.8, 1.2],\n",
        "    width_shift_range=0.2,\n",
        "    rotation_range=20,\n",
        "    horizontal_flip=True,\n",
        "    fill_mode='nearest'\n",
        ")\n",
        "\n",
        "\n",
        "# Load your dataset\n",
        "train_generator = train_datagen.flow_from_directory(\n",
        "    training_dir,\n",
        "    target_size=(320, 320),\n",
        "    batch_size=32,\n",
        "    shuffle = True,\n",
        "    class_mode='categorical'\n",
        ")\n",
        "\n",
        "val_datagen = ImageDataGenerator(\n",
        "    rescale=1./255\n",
        "    )\n",
        "val_generator = val_datagen.flow_from_directory(\n",
        "    validation_dir,\n",
        "    target_size=(320, 320),\n",
        "    batch_size=32,\n",
        "    shuffle = True,\n",
        "    class_mode='categorical'\n",
        ")\n",
        "\n",
        "\n",
        "\n"
      ]
    },
    {
      "cell_type": "code",
      "execution_count": null,
      "metadata": {
        "colab": {
          "base_uri": "https://localhost:8080/"
        },
        "id": "PNi2xoYfzA-k",
        "outputId": "be13592e-48fc-4abb-88de-28ebb44ce017"
      },
      "outputs": [
        {
          "output_type": "stream",
          "name": "stderr",
          "text": [
            "WARNING:tensorflow:`input_shape` is undefined or non-square, or `rows` is not in [96, 128, 160, 192, 224]. Weights for input shape (224, 224) will be loaded as the default.\n"
          ]
        }
      ],
      "source": [
        "# Model Architecture\n",
        "# TODO: Dediğim modelleri buraya import edip yerine yazın her şey çalışacaktır!\n",
        "base_model = MobileNetV2(weights='imagenet', include_top=False, input_shape=(320, 320, 3))\n",
        "\n",
        "for layer in base_model.layers:\n",
        "    layer.trainable = False\n",
        "\n",
        "x = base_model.output\n",
        "x = GlobalAveragePooling2D()(x)\n",
        "x = Dense(512, activation='relu')(x)\n",
        "x = Dropout(0.5)(x)\n",
        "x = Dense(256, activation='relu')(x)\n",
        "x = Dropout(0.5)(x)\n",
        "predictions = Dense(3, activation='softmax')(x)  # Adjust NUM_CLASSES to your task\n",
        "\n",
        "model = Model(inputs=base_model.input, outputs=predictions)\n",
        "\n",
        "base_model2= ResNet152V2(weights='imagenet', include_top=False, input_shape=(320, 320, 3))\n",
        "\n",
        "for layer in base_model2.layers:\n",
        "    layer.trainable = False\n",
        "\n",
        "x = base_model2.output\n",
        "x = GlobalAveragePooling2D()(x)\n",
        "x = Dense(512, activation='relu')(x)\n",
        "x = Dropout(0.5)(x)\n",
        "x = Dense(256, activation='relu')(x)\n",
        "x = Dropout(0.5)(x)\n",
        "predictions = Dense(3, activation='softmax')(x)  # Adjust NUM_CLASSES to your task\n",
        "model2 = Model(inputs=base_model2.input, outputs=predictions)\n",
        "\n",
        "base_model3= Xception(weights='imagenet', include_top=False, input_shape=(320, 320, 3))\n",
        "\n",
        "for layer in base_model3.layers:\n",
        "    layer.trainable = False\n",
        "\n",
        "x = base_model3.output\n",
        "x = GlobalAveragePooling2D()(x)\n",
        "x = Dense(512, activation='relu')(x)\n",
        "x = Dropout(0.5)(x)\n",
        "x = Dense(256, activation='relu')(x)\n",
        "x = Dropout(0.5)(x)\n",
        "predictions = Dense(3, activation='softmax')(x)  # Adjust NUM_CLASSES to your task\n",
        "model3 = Model(inputs=base_model3.input, outputs=predictions)\n",
        "\n",
        "models = [model, model2,model3]\n",
        "model_input = keras.Input(shape=(320, 320, 3))\n",
        "model_outputs = [model(model_input) for model in models]\n",
        "ensemble_output = keras.layers.Average()(model_outputs)\n",
        "ensemble_model = keras.Model(inputs=model_input, outputs=ensemble_output)\n",
        "\n"
      ]
    },
    {
      "cell_type": "code",
      "execution_count": null,
      "metadata": {
        "id": "p_fBJ36RzJYF"
      },
      "outputs": [],
      "source": [
        "optimizer = tf.keras.optimizers.Adam(learning_rate=0.001)\n",
        "ensemble_model.compile(optimizer=optimizer, loss='categorical_crossentropy', metrics=['accuracy'])"
      ]
    },
    {
      "cell_type": "code",
      "execution_count": null,
      "metadata": {
        "colab": {
          "base_uri": "https://localhost:8080/"
        },
        "id": "9B1D4B_yzLSD",
        "outputId": "0247d3b8-a567-450f-efad-ac6bb4a00efc"
      },
      "outputs": [
        {
          "output_type": "stream",
          "name": "stdout",
          "text": [
            "Epoch 1/5\n",
            "164/164 [==============================] - 234s 1s/step - loss: 0.4243 - accuracy: 0.8428 - val_loss: 0.2246 - val_accuracy: 0.8636\n",
            "Epoch 2/5\n",
            "164/164 [==============================] - 198s 1s/step - loss: 0.2479 - accuracy: 0.9212 - val_loss: 0.2160 - val_accuracy: 0.9242\n",
            "Epoch 3/5\n",
            "164/164 [==============================] - 201s 1s/step - loss: 0.2466 - accuracy: 0.9225 - val_loss: 0.3455 - val_accuracy: 0.8939\n",
            "Epoch 4/5\n",
            "164/164 [==============================] - 199s 1s/step - loss: 0.2029 - accuracy: 0.9365 - val_loss: 0.1803 - val_accuracy: 0.9242\n",
            "Epoch 5/5\n",
            "164/164 [==============================] - 199s 1s/step - loss: 0.1964 - accuracy: 0.9394 - val_loss: 0.2371 - val_accuracy: 0.9242\n"
          ]
        },
        {
          "output_type": "execute_result",
          "data": {
            "text/plain": [
              "<keras.src.callbacks.History at 0x7eb1b748bac0>"
            ]
          },
          "metadata": {},
          "execution_count": 45
        }
      ],
      "source": [
        "\n",
        "\n",
        "ensemble_model.fit(\n",
        "    train_generator,\n",
        "    epochs=5,\n",
        "    validation_data=val_generator\n",
        ")"
      ]
    },
    {
      "cell_type": "code",
      "execution_count": null,
      "metadata": {
        "id": "0eN7Gy8dzUT9",
        "colab": {
          "base_uri": "https://localhost:8080/"
        },
        "outputId": "3eb9055e-133d-43c5-af42-666b2f763a4f"
      },
      "outputs": [
        {
          "output_type": "stream",
          "name": "stdout",
          "text": [
            "Epoch 1/5\n",
            "164/164 [==============================] - 221s 1s/step - loss: 0.1441 - accuracy: 0.9570 - val_loss: 0.1819 - val_accuracy: 0.9242\n",
            "Epoch 2/5\n",
            "164/164 [==============================] - 196s 1s/step - loss: 0.1463 - accuracy: 0.9554 - val_loss: 0.1577 - val_accuracy: 0.9697\n",
            "Epoch 3/5\n",
            "164/164 [==============================] - 198s 1s/step - loss: 0.1410 - accuracy: 0.9570 - val_loss: 0.1615 - val_accuracy: 0.9242\n",
            "Epoch 4/5\n",
            "164/164 [==============================] - 198s 1s/step - loss: 0.1339 - accuracy: 0.9602 - val_loss: 0.1372 - val_accuracy: 0.9848\n",
            "Epoch 5/5\n",
            "164/164 [==============================] - 197s 1s/step - loss: 0.1279 - accuracy: 0.9623 - val_loss: 0.1560 - val_accuracy: 0.9242\n"
          ]
        }
      ],
      "source": [
        "## Fine tuning to improve accuracy\n",
        "import keras\n",
        "\n",
        "fine_tune_at = 125\n",
        "# Freeze all the layers before the `fine_tune_at` layer\n",
        "for layer in base_model.layers[:fine_tune_at]:\n",
        "    layer.trainable = False\n",
        "\n",
        "\n",
        "custom_optimizer = tf.keras.optimizers.Adam(learning_rate=0.0005)\n",
        "\n",
        "# Compile the model\n",
        "ensemble_model.compile(optimizer=custom_optimizer, loss='categorical_crossentropy', metrics=['accuracy'])\n",
        "\n",
        "early_stopping = keras.callbacks.EarlyStopping( monitor='val_accuracy',patience=5,restore_best_weights=True)\n",
        "\n",
        "# Train the model with fine-tuning\n",
        "history = ensemble_model.fit(\n",
        "    train_generator,\n",
        "    epochs=5,\n",
        "    validation_data=val_generator,\n",
        "    callbacks= [early_stopping]\n",
        "    )"
      ]
    },
    {
      "cell_type": "code",
      "execution_count": null,
      "metadata": {
        "id": "B9tZ7pLsziet"
      },
      "outputs": [],
      "source": [
        "test_datagen = ImageDataGenerator(\n",
        "    rescale=1./255\n",
        "    )\n",
        "test_generator = test_datagen.flow_from_directory(\n",
        "    \"/content/covid19-image-dataset/Covid19-dataset/train\",\n",
        "    target_size=(320, 320),\n",
        "    batch_size=32,\n",
        "    shuffle = True,\n",
        "    class_mode='categorical'\n",
        ")\n",
        "\n",
        "test_datagen2 = ImageDataGenerator(\n",
        "    rescale=1./255\n",
        "    )\n",
        "test_generator2 = test_datagen.flow_from_directory(\n",
        "    \"/content/covid19-pneumonia-normal-chest-xray-pa-dataset\",\n",
        "    target_size=(320, 320),\n",
        "    batch_size=32,\n",
        "    shuffle = True,\n",
        "    class_mode='categorical'\n",
        ")"
      ]
    },
    {
      "cell_type": "code",
      "execution_count": null,
      "metadata": {
        "id": "_dhUDWiszr4V",
        "colab": {
          "base_uri": "https://localhost:8080/"
        },
        "outputId": "eecccdcb-9acd-45fb-9829-172e5cb653fe"
      },
      "outputs": [
        {
          "output_type": "stream",
          "name": "stdout",
          "text": [
            "8/8 [==============================] - 9s 1s/step - loss: 0.2500 - accuracy: 0.9323\n"
          ]
        },
        {
          "output_type": "execute_result",
          "data": {
            "text/plain": [
              "[0.2500132620334625, 0.9322709441184998]"
            ]
          },
          "metadata": {},
          "execution_count": 52
        }
      ],
      "source": [
        "ensemble_model.evaluate(test_generator)"
      ]
    },
    {
      "cell_type": "code",
      "execution_count": null,
      "metadata": {
        "id": "ASraDwIvzuBJ",
        "colab": {
          "base_uri": "https://localhost:8080/"
        },
        "outputId": "b2a743c7-258f-4cb1-dca3-2a807af8da80"
      },
      "outputs": [
        {
          "output_type": "stream",
          "name": "stdout",
          "text": [
            "216/216 [==============================] - 164s 758ms/step - loss: 2.9638 - accuracy: 0.6739\n"
          ]
        },
        {
          "output_type": "execute_result",
          "data": {
            "text/plain": [
              "[2.9637863636016846, 0.673862636089325]"
            ]
          },
          "metadata": {},
          "execution_count": 53
        }
      ],
      "source": [
        "ensemble_model.evaluate(test_generator2)"
      ]
    },
    {
      "cell_type": "code",
      "execution_count": null,
      "metadata": {
        "id": "i7s02iLZzirK"
      },
      "outputs": [],
      "source": []
    }
  ],
  "metadata": {
    "accelerator": "GPU",
    "colab": {
      "provenance": []
    },
    "kernelspec": {
      "display_name": "Python 3",
      "name": "python3"
    },
    "language_info": {
      "name": "python"
    }
  },
  "nbformat": 4,
  "nbformat_minor": 0
}